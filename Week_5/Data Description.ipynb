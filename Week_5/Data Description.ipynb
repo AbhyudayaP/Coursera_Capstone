{
 "cells": [
  {
   "cell_type": "markdown",
   "metadata": {},
   "source": [
    "# The Battle of Neighborhood: Data Description\n",
    "\n",
    "We are going to use the dataset consisting of postal codes, Borough and Neighborhood of North York which is scrapped from the Wikipedia page mentioned below:   \n",
    "Data Link: https://en.wikipedia.org/wiki/List_of_postal_codes_of_Canada:_M,\n",
    "\n",
    "Most time consuming part of any data science project is collection of data and data cleaning, Some of the data can be gathered with the help of web-scrapping and some of the data can be obtained from the data providers but it adds some cost to the project. By considering the limitations related to the cost, we are using API’s and other data sources which are available for free, as free membership offers limitation of usage, we are limiting the scope of project.\n",
    "\n",
    "The data gathered from Foursquare API for the North York Borough will be used to cluster the neighborhood according to the similarities by using K-means clustering algorithm, Foursquare provides the location data within the area of interest such as venue name, locations, business etc. \n",
    "\n",
    "The Data obtained from web-scraping is analyzed and processed and further meta data is added to the original data to get insights of the data. Some of the attributes of the data are:\n",
    "1.\tPostal codes \n",
    "2.\tNeighborhood’s\n",
    "3.\tNeighborhood’s latitude\n",
    "4.\tNeighborhood’s longitude\n",
    "5.\tVenue\n",
    "6.\tVenue’s latitude\n",
    "7.\tVenue’s longitude\n",
    "8.\tVenue Category \n",
    "9.\tNearby Schools\n",
    "10.\tNearby Hospitals \n"
   ]
  },
  {
   "cell_type": "markdown",
   "metadata": {},
   "source": [
    "## Thank You !!!"
   ]
  },
  {
   "cell_type": "code",
   "execution_count": null,
   "metadata": {},
   "outputs": [],
   "source": []
  }
 ],
 "metadata": {
  "kernelspec": {
   "display_name": "Python 3",
   "language": "python",
   "name": "python3"
  },
  "language_info": {
   "codemirror_mode": {
    "name": "ipython",
    "version": 3
   },
   "file_extension": ".py",
   "mimetype": "text/x-python",
   "name": "python",
   "nbconvert_exporter": "python",
   "pygments_lexer": "ipython3",
   "version": "3.8.3"
  }
 },
 "nbformat": 4,
 "nbformat_minor": 4
}
